{
 "cells": [
  {
   "cell_type": "code",
   "execution_count": 14,
   "metadata": {},
   "outputs": [],
   "source": [
    "import os\n",
    "import pandas as pd"
   ]
  },
  {
   "cell_type": "code",
   "execution_count": 9,
   "metadata": {},
   "outputs": [],
   "source": [
    "cwd = os.getcwd()\n",
    "BASE_DIR = os.path.dirname(cwd)\n",
    "DATA_DIR = os.path.join(BASE_DIR, 'data')"
   ]
  },
  {
   "cell_type": "code",
   "execution_count": 11,
   "metadata": {},
   "outputs": [
    {
     "data": {
      "text/plain": [
       "['daily.csv', 'monthly.csv', 'weekly.csv']"
      ]
     },
     "execution_count": 11,
     "metadata": {},
     "output_type": "execute_result"
    }
   ],
   "source": [
    "os.listdir(DATA_DIR)"
   ]
  },
  {
   "cell_type": "code",
   "execution_count": 15,
   "metadata": {},
   "outputs": [
    {
     "name": "stdout",
     "output_type": "stream",
     "text": [
      "True\n"
     ]
    }
   ],
   "source": [
    "my_data = os.path.join(DATA_DIR,'daily.csv')\n",
    "print(os.path.exists(my_data))"
   ]
  },
  {
   "cell_type": "code",
   "execution_count": 106,
   "metadata": {},
   "outputs": [],
   "source": [
    "df = pd.read_csv(my_data)"
   ]
  },
  {
   "cell_type": "code",
   "execution_count": 109,
   "metadata": {},
   "outputs": [],
   "source": [
    "df['data'] = df['Unnamed: 0']"
   ]
  },
  {
   "cell_type": "code",
   "execution_count": 114,
   "metadata": {},
   "outputs": [],
   "source": [
    "df.drop(columns=['Unnamed: 0'], inplace=True)"
   ]
  },
  {
   "cell_type": "code",
   "execution_count": 116,
   "metadata": {},
   "outputs": [
    {
     "data": {
      "text/html": [
       "<div>\n",
       "<style scoped>\n",
       "    .dataframe tbody tr th:only-of-type {\n",
       "        vertical-align: middle;\n",
       "    }\n",
       "\n",
       "    .dataframe tbody tr th {\n",
       "        vertical-align: top;\n",
       "    }\n",
       "\n",
       "    .dataframe thead th {\n",
       "        text-align: right;\n",
       "    }\n",
       "</style>\n",
       "<table border=\"1\" class=\"dataframe\">\n",
       "  <thead>\n",
       "    <tr style=\"text-align: right;\">\n",
       "      <th></th>\n",
       "      <th>open</th>\n",
       "      <th>high</th>\n",
       "      <th>low</th>\n",
       "      <th>close</th>\n",
       "      <th>volume</th>\n",
       "    </tr>\n",
       "    <tr>\n",
       "      <th>data</th>\n",
       "      <th></th>\n",
       "      <th></th>\n",
       "      <th></th>\n",
       "      <th></th>\n",
       "      <th></th>\n",
       "    </tr>\n",
       "  </thead>\n",
       "  <tbody>\n",
       "    <tr>\n",
       "      <th>2020-08-21</th>\n",
       "      <td>123.01</td>\n",
       "      <td>123.4842</td>\n",
       "      <td>122.31</td>\n",
       "      <td>123.16</td>\n",
       "      <td>3385051</td>\n",
       "    </tr>\n",
       "    <tr>\n",
       "      <th>2020-08-20</th>\n",
       "      <td>123.20</td>\n",
       "      <td>124.0400</td>\n",
       "      <td>122.81</td>\n",
       "      <td>123.15</td>\n",
       "      <td>2561164</td>\n",
       "    </tr>\n",
       "    <tr>\n",
       "      <th>2020-08-19</th>\n",
       "      <td>124.83</td>\n",
       "      <td>125.5000</td>\n",
       "      <td>123.50</td>\n",
       "      <td>123.84</td>\n",
       "      <td>3743949</td>\n",
       "    </tr>\n",
       "    <tr>\n",
       "      <th>2020-08-18</th>\n",
       "      <td>125.00</td>\n",
       "      <td>125.5000</td>\n",
       "      <td>124.24</td>\n",
       "      <td>124.92</td>\n",
       "      <td>2882355</td>\n",
       "    </tr>\n",
       "    <tr>\n",
       "      <th>2020-08-17</th>\n",
       "      <td>125.25</td>\n",
       "      <td>125.5900</td>\n",
       "      <td>124.41</td>\n",
       "      <td>124.44</td>\n",
       "      <td>3336459</td>\n",
       "    </tr>\n",
       "    <tr>\n",
       "      <th>...</th>\n",
       "      <td>...</td>\n",
       "      <td>...</td>\n",
       "      <td>...</td>\n",
       "      <td>...</td>\n",
       "      <td>...</td>\n",
       "    </tr>\n",
       "    <tr>\n",
       "      <th>2020-04-07</th>\n",
       "      <td>118.80</td>\n",
       "      <td>119.5700</td>\n",
       "      <td>114.87</td>\n",
       "      <td>114.94</td>\n",
       "      <td>5595300</td>\n",
       "    </tr>\n",
       "    <tr>\n",
       "      <th>2020-04-06</th>\n",
       "      <td>110.35</td>\n",
       "      <td>115.6300</td>\n",
       "      <td>110.13</td>\n",
       "      <td>114.82</td>\n",
       "      <td>7034200</td>\n",
       "    </tr>\n",
       "    <tr>\n",
       "      <th>2020-04-03</th>\n",
       "      <td>108.92</td>\n",
       "      <td>110.0700</td>\n",
       "      <td>104.92</td>\n",
       "      <td>106.34</td>\n",
       "      <td>4538800</td>\n",
       "    </tr>\n",
       "    <tr>\n",
       "      <th>2020-04-02</th>\n",
       "      <td>105.37</td>\n",
       "      <td>110.3200</td>\n",
       "      <td>105.14</td>\n",
       "      <td>110.00</td>\n",
       "      <td>6328700</td>\n",
       "    </tr>\n",
       "    <tr>\n",
       "      <th>2020-04-01</th>\n",
       "      <td>106.36</td>\n",
       "      <td>109.9200</td>\n",
       "      <td>104.52</td>\n",
       "      <td>105.14</td>\n",
       "      <td>6112900</td>\n",
       "    </tr>\n",
       "  </tbody>\n",
       "</table>\n",
       "<p>100 rows × 5 columns</p>\n",
       "</div>"
      ],
      "text/plain": [
       "              open      high     low   close   volume\n",
       "data                                                 \n",
       "2020-08-21  123.01  123.4842  122.31  123.16  3385051\n",
       "2020-08-20  123.20  124.0400  122.81  123.15  2561164\n",
       "2020-08-19  124.83  125.5000  123.50  123.84  3743949\n",
       "2020-08-18  125.00  125.5000  124.24  124.92  2882355\n",
       "2020-08-17  125.25  125.5900  124.41  124.44  3336459\n",
       "...            ...       ...     ...     ...      ...\n",
       "2020-04-07  118.80  119.5700  114.87  114.94  5595300\n",
       "2020-04-06  110.35  115.6300  110.13  114.82  7034200\n",
       "2020-04-03  108.92  110.0700  104.92  106.34  4538800\n",
       "2020-04-02  105.37  110.3200  105.14  110.00  6328700\n",
       "2020-04-01  106.36  109.9200  104.52  105.14  6112900\n",
       "\n",
       "[100 rows x 5 columns]"
      ]
     },
     "execution_count": 116,
     "metadata": {},
     "output_type": "execute_result"
    }
   ],
   "source": [
    "df.set_index('data')"
   ]
  },
  {
   "cell_type": "code",
   "execution_count": null,
   "metadata": {},
   "outputs": [],
   "source": []
  }
 ],
 "metadata": {
  "kernelspec": {
   "display_name": "Python 3",
   "language": "python",
   "name": "python3"
  },
  "language_info": {
   "codemirror_mode": {
    "name": "ipython",
    "version": 3
   },
   "file_extension": ".py",
   "mimetype": "text/x-python",
   "name": "python",
   "nbconvert_exporter": "python",
   "pygments_lexer": "ipython3",
   "version": "3.8.3"
  }
 },
 "nbformat": 4,
 "nbformat_minor": 4
}
