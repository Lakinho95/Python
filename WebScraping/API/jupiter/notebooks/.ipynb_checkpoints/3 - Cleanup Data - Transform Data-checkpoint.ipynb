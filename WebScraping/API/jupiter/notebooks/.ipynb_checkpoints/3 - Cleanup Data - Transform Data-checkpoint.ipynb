{
 "cells": [
  {
   "cell_type": "code",
   "execution_count": 1,
   "metadata": {},
   "outputs": [],
   "source": [
    "import os\n",
    "import pandas as pd"
   ]
  },
  {
   "cell_type": "code",
   "execution_count": 22,
   "metadata": {},
   "outputs": [],
   "source": [
    "cwd = os.getcwd()\n",
    "BASE_DIR = os.path.dirname(cwd)\n",
    "DATA_DIR = os.path.join(BASE_DIR, 'data')\n",
    "CACHE_DIR = os.path.join(BASE_DIR,'cache')\n",
    "os.makedirs(CACHE_DIR, exist_ok = True)"
   ]
  },
  {
   "cell_type": "code",
   "execution_count": 3,
   "metadata": {},
   "outputs": [
    {
     "name": "stdout",
     "output_type": "stream",
     "text": [
      "daily.csv\n",
      "monthly.csv\n",
      "weekly.csv\n"
     ]
    }
   ],
   "source": [
    "for filename in os.listdir(DATA_DIR):\n",
    "    print(filename)"
   ]
  },
  {
   "cell_type": "code",
   "execution_count": 5,
   "metadata": {},
   "outputs": [],
   "source": [
    "df = pd.read_csv(os.path.join(DATA_DIR,'monthly.csv'))"
   ]
  },
  {
   "cell_type": "code",
   "execution_count": 9,
   "metadata": {},
   "outputs": [],
   "source": [
    "df['frequency'] = 'monthly'"
   ]
  },
  {
   "cell_type": "code",
   "execution_count": 16,
   "metadata": {},
   "outputs": [
    {
     "name": "stdout",
     "output_type": "stream",
     "text": [
      "daily.csv\n",
      "   Unnamed: 0    open      high     low   close   volume   filename frequency\n",
      "0  2020-08-21  123.01  123.4842  122.31  123.16  3385051  daily.csv     daily\n",
      "monthly.csv\n",
      "   Unnamed: 0   open    high     low   close    volume     filename frequency\n",
      "0  2020-08-21  123.5  130.47  122.15  123.16  52245334  monthly.csv   monthly\n",
      "weekly.csv\n",
      "   Unnamed: 0    open    high     low   close    volume    filename frequency\n",
      "0  2020-08-21  125.25  125.59  122.31  123.16  15908978  weekly.csv    weekly\n"
     ]
    }
   ],
   "source": [
    "\n",
    "\n",
    "my_dataframes = []\n",
    "csv_files = [x for x in os.listdir(DATA_DIR) if x.endswith('.csv')]\n",
    "for filename in (csv_files):\n",
    "    print(filename)\n",
    "    frequency = filename.replace('.csv','')\n",
    "    csv_path = os.path.join(DATA_DIR, filename)\n",
    "    this_df = pd.read_csv(csv_path)\n",
    "    this_df['filename'] = filename\n",
    "    this_df['frequency'] = frequency\n",
    "    print(this_df.head(1))\n",
    "    my_dataframes.append(this_df)"
   ]
  },
  {
   "cell_type": "code",
   "execution_count": 19,
   "metadata": {},
   "outputs": [
    {
     "data": {
      "text/html": [
       "<div>\n",
       "<style scoped>\n",
       "    .dataframe tbody tr th:only-of-type {\n",
       "        vertical-align: middle;\n",
       "    }\n",
       "\n",
       "    .dataframe tbody tr th {\n",
       "        vertical-align: top;\n",
       "    }\n",
       "\n",
       "    .dataframe thead th {\n",
       "        text-align: right;\n",
       "    }\n",
       "</style>\n",
       "<table border=\"1\" class=\"dataframe\">\n",
       "  <thead>\n",
       "    <tr style=\"text-align: right;\">\n",
       "      <th></th>\n",
       "      <th>Unnamed: 0</th>\n",
       "      <th>open</th>\n",
       "      <th>high</th>\n",
       "      <th>low</th>\n",
       "      <th>close</th>\n",
       "      <th>volume</th>\n",
       "      <th>filename</th>\n",
       "      <th>frequency</th>\n",
       "    </tr>\n",
       "  </thead>\n",
       "  <tbody>\n",
       "    <tr>\n",
       "      <th>0</th>\n",
       "      <td>2020-08-21</td>\n",
       "      <td>123.01</td>\n",
       "      <td>123.4842</td>\n",
       "      <td>122.31</td>\n",
       "      <td>123.16</td>\n",
       "      <td>3385051</td>\n",
       "      <td>daily.csv</td>\n",
       "      <td>daily</td>\n",
       "    </tr>\n",
       "    <tr>\n",
       "      <th>1</th>\n",
       "      <td>2020-08-20</td>\n",
       "      <td>123.20</td>\n",
       "      <td>124.0400</td>\n",
       "      <td>122.81</td>\n",
       "      <td>123.15</td>\n",
       "      <td>2561164</td>\n",
       "      <td>daily.csv</td>\n",
       "      <td>daily</td>\n",
       "    </tr>\n",
       "    <tr>\n",
       "      <th>2</th>\n",
       "      <td>2020-08-19</td>\n",
       "      <td>124.83</td>\n",
       "      <td>125.5000</td>\n",
       "      <td>123.50</td>\n",
       "      <td>123.84</td>\n",
       "      <td>3743949</td>\n",
       "      <td>daily.csv</td>\n",
       "      <td>daily</td>\n",
       "    </tr>\n",
       "    <tr>\n",
       "      <th>3</th>\n",
       "      <td>2020-08-18</td>\n",
       "      <td>125.00</td>\n",
       "      <td>125.5000</td>\n",
       "      <td>124.24</td>\n",
       "      <td>124.92</td>\n",
       "      <td>2882355</td>\n",
       "      <td>daily.csv</td>\n",
       "      <td>daily</td>\n",
       "    </tr>\n",
       "    <tr>\n",
       "      <th>4</th>\n",
       "      <td>2020-08-17</td>\n",
       "      <td>125.25</td>\n",
       "      <td>125.5900</td>\n",
       "      <td>124.41</td>\n",
       "      <td>124.44</td>\n",
       "      <td>3336459</td>\n",
       "      <td>daily.csv</td>\n",
       "      <td>daily</td>\n",
       "    </tr>\n",
       "  </tbody>\n",
       "</table>\n",
       "</div>"
      ],
      "text/plain": [
       "   Unnamed: 0    open      high     low   close   volume   filename frequency\n",
       "0  2020-08-21  123.01  123.4842  122.31  123.16  3385051  daily.csv     daily\n",
       "1  2020-08-20  123.20  124.0400  122.81  123.15  2561164  daily.csv     daily\n",
       "2  2020-08-19  124.83  125.5000  123.50  123.84  3743949  daily.csv     daily\n",
       "3  2020-08-18  125.00  125.5000  124.24  124.92  2882355  daily.csv     daily\n",
       "4  2020-08-17  125.25  125.5900  124.41  124.44  3336459  daily.csv     daily"
      ]
     },
     "execution_count": 19,
     "metadata": {},
     "output_type": "execute_result"
    }
   ],
   "source": [
    "my_entire_dataframe = pd.concat(my_dataframes)\n",
    "my_entire_dataframe.head()\n"
   ]
  },
  {
   "cell_type": "code",
   "execution_count": 20,
   "metadata": {},
   "outputs": [
    {
     "data": {
      "text/html": [
       "<div>\n",
       "<style scoped>\n",
       "    .dataframe tbody tr th:only-of-type {\n",
       "        vertical-align: middle;\n",
       "    }\n",
       "\n",
       "    .dataframe tbody tr th {\n",
       "        vertical-align: top;\n",
       "    }\n",
       "\n",
       "    .dataframe thead th {\n",
       "        text-align: right;\n",
       "    }\n",
       "</style>\n",
       "<table border=\"1\" class=\"dataframe\">\n",
       "  <thead>\n",
       "    <tr style=\"text-align: right;\">\n",
       "      <th></th>\n",
       "      <th>Unnamed: 0</th>\n",
       "      <th>open</th>\n",
       "      <th>high</th>\n",
       "      <th>low</th>\n",
       "      <th>close</th>\n",
       "      <th>volume</th>\n",
       "      <th>filename</th>\n",
       "      <th>frequency</th>\n",
       "    </tr>\n",
       "  </thead>\n",
       "  <tbody>\n",
       "    <tr>\n",
       "      <th>1080</th>\n",
       "      <td>1999-12-10</td>\n",
       "      <td>113.00</td>\n",
       "      <td>122.12</td>\n",
       "      <td>107.56</td>\n",
       "      <td>109.00</td>\n",
       "      <td>58626000</td>\n",
       "      <td>weekly.csv</td>\n",
       "      <td>weekly</td>\n",
       "    </tr>\n",
       "    <tr>\n",
       "      <th>1081</th>\n",
       "      <td>1999-12-03</td>\n",
       "      <td>104.94</td>\n",
       "      <td>112.87</td>\n",
       "      <td>102.12</td>\n",
       "      <td>111.87</td>\n",
       "      <td>37670000</td>\n",
       "      <td>weekly.csv</td>\n",
       "      <td>weekly</td>\n",
       "    </tr>\n",
       "    <tr>\n",
       "      <th>1082</th>\n",
       "      <td>1999-11-26</td>\n",
       "      <td>105.50</td>\n",
       "      <td>109.87</td>\n",
       "      <td>101.81</td>\n",
       "      <td>105.00</td>\n",
       "      <td>37165600</td>\n",
       "      <td>weekly.csv</td>\n",
       "      <td>weekly</td>\n",
       "    </tr>\n",
       "    <tr>\n",
       "      <th>1083</th>\n",
       "      <td>1999-11-19</td>\n",
       "      <td>96.00</td>\n",
       "      <td>105.12</td>\n",
       "      <td>92.62</td>\n",
       "      <td>103.94</td>\n",
       "      <td>61550800</td>\n",
       "      <td>weekly.csv</td>\n",
       "      <td>weekly</td>\n",
       "    </tr>\n",
       "    <tr>\n",
       "      <th>1084</th>\n",
       "      <td>1999-11-12</td>\n",
       "      <td>90.50</td>\n",
       "      <td>97.50</td>\n",
       "      <td>90.50</td>\n",
       "      <td>95.87</td>\n",
       "      <td>43569700</td>\n",
       "      <td>weekly.csv</td>\n",
       "      <td>weekly</td>\n",
       "    </tr>\n",
       "  </tbody>\n",
       "</table>\n",
       "</div>"
      ],
      "text/plain": [
       "      Unnamed: 0    open    high     low   close    volume    filename  \\\n",
       "1080  1999-12-10  113.00  122.12  107.56  109.00  58626000  weekly.csv   \n",
       "1081  1999-12-03  104.94  112.87  102.12  111.87  37670000  weekly.csv   \n",
       "1082  1999-11-26  105.50  109.87  101.81  105.00  37165600  weekly.csv   \n",
       "1083  1999-11-19   96.00  105.12   92.62  103.94  61550800  weekly.csv   \n",
       "1084  1999-11-12   90.50   97.50   90.50   95.87  43569700  weekly.csv   \n",
       "\n",
       "     frequency  \n",
       "1080    weekly  \n",
       "1081    weekly  \n",
       "1082    weekly  \n",
       "1083    weekly  \n",
       "1084    weekly  "
      ]
     },
     "execution_count": 20,
     "metadata": {},
     "output_type": "execute_result"
    }
   ],
   "source": [
    "my_entire_dataframe.tail()"
   ]
  },
  {
   "cell_type": "code",
   "execution_count": 23,
   "metadata": {},
   "outputs": [],
   "source": [
    "dataset = os.path.join(CACHE_DIR, 'stock-market-dataset')\n",
    "my_entire_dataframe.to_csv(dataset, index=False)"
   ]
  },
  {
   "cell_type": "code",
   "execution_count": null,
   "metadata": {},
   "outputs": [],
   "source": []
  }
 ],
 "metadata": {
  "kernelspec": {
   "display_name": "Python 3",
   "language": "python",
   "name": "python3"
  },
  "language_info": {
   "codemirror_mode": {
    "name": "ipython",
    "version": 3
   },
   "file_extension": ".py",
   "mimetype": "text/x-python",
   "name": "python",
   "nbconvert_exporter": "python",
   "pygments_lexer": "ipython3",
   "version": "3.8.3"
  }
 },
 "nbformat": 4,
 "nbformat_minor": 4
}
